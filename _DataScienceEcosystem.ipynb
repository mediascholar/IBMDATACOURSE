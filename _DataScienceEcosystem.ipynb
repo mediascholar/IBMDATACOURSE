{
 "cells": [
  {
   "cell_type": "markdown",
   "id": "0485d602-6163-4a43-a1e9-c30c37698230",
   "metadata": {},
   "source": [
    "# Data Science Tools and Ecosystem\n"
   ]
  },
  {
   "cell_type": "markdown",
   "id": "f7dccb10-f96d-42e7-981e-fd805eb72ee2",
   "metadata": {},
   "source": [
    "__In this notebook, Data Science Tools and Ecosystem are summarized__"
   ]
  },
  {
   "cell_type": "markdown",
   "id": "2920e886-cbda-40a8-953b-3fab34137548",
   "metadata": {},
   "source": [
    "Some of the popular languages that Data Scientists use are:\n",
    "1. PYTHON\n",
    "2. R\n",
    "3. SQL"
   ]
  },
  {
   "cell_type": "markdown",
   "id": "eb1d0656-6673-4374-957f-8c49cb6b0ff0",
   "metadata": {},
   "source": [
    "Some of the commonly used libraries used by Data Scientists include:\n",
    "1. PANDA\n",
    "2. NumPy\n",
    "3. Matplotlib"
   ]
  },
  {
   "cell_type": "markdown",
   "id": "7d33acf4-2723-42ca-b6a2-672b580882b9",
   "metadata": {},
   "source": [
    "__Data science tools table__\n",
    "\n",
    "|Data science tools|\n",
    "|------------------|\n",
    "|MySQL             |\n",
    "|Apache AirFlow    |  \n",
    "|Kibana            | "
   ]
  },
  {
   "cell_type": "markdown",
   "id": "a6d847ab-086a-4878-9778-8a00929f9ad6",
   "metadata": {},
   "source": [
    "### Below are a few examples of evaluating arithmetic expressions in Python "
   ]
  },
  {
   "cell_type": "code",
   "execution_count": 10,
   "id": "f50e0dd3-41c0-4afe-a161-9e0526e13221",
   "metadata": {},
   "outputs": [
    {
     "data": {
      "text/plain": [
       "17"
      ]
     },
     "execution_count": 10,
     "metadata": {},
     "output_type": "execute_result"
    }
   ],
   "source": [
    "#This a simple arithmetic expression to mutiply then add integers\n",
    "(3*4)+5\n",
    " \n"
   ]
  },
  {
   "cell_type": "code",
   "execution_count": 32,
   "id": "f693e668-4f56-4ddf-8768-1509b67362d8",
   "metadata": {},
   "outputs": [
    {
     "data": {
      "text/plain": [
       "3.3333333333333335"
      ]
     },
     "execution_count": 32,
     "metadata": {},
     "output_type": "execute_result"
    }
   ],
   "source": [
    "#This will convert 200 minutes to hours by dividng by 60\n",
    "h = 200/60\n",
    "h\n"
   ]
  },
  {
   "cell_type": "markdown",
   "id": "aff3839e-62c4-4d1e-8684-7a6d4eb8be8a",
   "metadata": {},
   "source": [
    "__Objectives:__\n",
    "\n",
    "* libraries used by Data Scientists\n",
    "* popular languages that Data Scientists\n",
    "* evaluating arithmetic expressions in Python"
   ]
  },
  {
   "cell_type": "code",
   "execution_count": null,
   "id": "45b5df7a-2fd6-404c-8957-87e2d3b63a52",
   "metadata": {},
   "outputs": [],
   "source": []
  },
  {
   "cell_type": "markdown",
   "id": "524bb316-469d-4c1b-a53d-adb0dd1589ce",
   "metadata": {},
   "source": [
    "## AUTHOR\n",
    "   PANKAJ PANDEY"
   ]
  },
  {
   "cell_type": "code",
   "execution_count": null,
   "id": "7d65439a-5b54-4214-b731-825d9e7744f3",
   "metadata": {},
   "outputs": [],
   "source": []
  }
 ],
 "metadata": {
  "kernelspec": {
   "display_name": "Python 3 (ipykernel)",
   "language": "python",
   "name": "python3"
  },
  "language_info": {
   "codemirror_mode": {
    "name": "ipython",
    "version": 3
   },
   "file_extension": ".py",
   "mimetype": "text/x-python",
   "name": "python",
   "nbconvert_exporter": "python",
   "pygments_lexer": "ipython3",
   "version": "3.12.4"
  }
 },
 "nbformat": 4,
 "nbformat_minor": 5
}
